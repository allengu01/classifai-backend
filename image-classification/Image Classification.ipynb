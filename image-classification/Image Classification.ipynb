{
 "cells": [
  {
   "cell_type": "code",
   "execution_count": 1,
   "id": "831c969a",
   "metadata": {},
   "outputs": [],
   "source": [
    "data_bucket_name = 'classifai-backend'\n",
    "dataset_name = 'test'"
   ]
  },
  {
   "cell_type": "code",
   "execution_count": 2,
   "id": "87fe405d",
   "metadata": {},
   "outputs": [
    {
     "name": "stderr",
     "output_type": "stream",
     "text": [
      "Defaulting to the only supported framework/algorithm version: 1. Ignoring framework/algorithm version: latest.\n"
     ]
    }
   ],
   "source": [
    "import sagemaker\n",
    "from sagemaker import get_execution_role, image_uris\n",
    "\n",
    "role = get_execution_role()\n",
    "sess = sagemaker.Session()\n",
    "training_image = image_uris.retrieve('image-classification', sess.boto_region_name, version='latest')"
   ]
  },
  {
   "cell_type": "code",
   "execution_count": 20,
   "id": "2ea27953",
   "metadata": {},
   "outputs": [
    {
     "name": "stdout",
     "output_type": "stream",
     "text": [
      "env: BASE_DIR=/tmp\n",
      "env: S3_DATA_BUCKET_NAME=classifai-backend\n",
      "env: DATASET_NAME=test\n",
      "env: IM2REC=/home/ec2-user/SageMaker/classifai-backend/image-classification/incubator-mxnet/tools/im2rec.py\n"
     ]
    }
   ],
   "source": [
    "# Find im2rec in our environment and set up some other vars in our environemnt\n",
    "\n",
    "base_dir='/tmp'\n",
    "\n",
    "%env BASE_DIR=$base_dir\n",
    "%env S3_DATA_BUCKET_NAME = $data_bucket_name\n",
    "%env DATASET_NAME = $dataset_name\n",
    "\n",
    "import sys,os\n",
    "\n",
    "# suffix='/mxnet/tools/im2rec.py'\n",
    "# im2rec = list(filter( (lambda x: os.path.isfile(x + suffix )), sys.path))[0] + suffix\n",
    "suffix='/incubator-mxnet/tools/im2rec.py'\n",
    "im2rec = '/home/ec2-user/SageMaker/classifai-backend/image-classification/incubator-mxnet/tools/im2rec.py'\n",
    "%env IM2REC=$im2rec"
   ]
  },
  {
   "cell_type": "code",
   "execution_count": 21,
   "id": "cb5ecc48",
   "metadata": {},
   "outputs": [],
   "source": [
    "# Pull our images from S3\n",
    "!aws s3 sync s3://$S3_DATA_BUCKET_NAME/public/$DATASET_NAME $BASE_DIR/$DATASET_NAME --quiet"
   ]
  },
  {
   "cell_type": "code",
   "execution_count": 22,
   "id": "c841d610",
   "metadata": {},
   "outputs": [
    {
     "name": "stdout",
     "output_type": "stream",
     "text": [
      "Creating LST files\n",
      "Label classes:\n",
      "Creating RecordIO files\n"
     ]
    },
    {
     "name": "stderr",
     "output_type": "stream",
     "text": [
      "rm: cannot remove ‘*.rec’: No such file or directory\n",
      "rm: cannot remove ‘*.lst’: No such file or directory\n",
      "Traceback (most recent call last):\n",
      "  File \"/home/ec2-user/SageMaker/classifai-backend/image-classification/incubator-mxnet/tools/im2rec.py\", line 26, in <module>\n",
      "    import mxnet as mx\n",
      "  File \"/home/ec2-user/SageMaker/classifai-backend/image-classification/incubator-mxnet/tools/../python/mxnet/__init__.py\", line 23, in <module>\n",
      "    from .context import Context, current_context, cpu, gpu, cpu_pinned\n",
      "  File \"/home/ec2-user/SageMaker/classifai-backend/image-classification/incubator-mxnet/tools/../python/mxnet/context.py\", line 20, in <module>\n",
      "    from .base import _LIB\n",
      "  File \"/home/ec2-user/SageMaker/classifai-backend/image-classification/incubator-mxnet/tools/../python/mxnet/base.py\", line 312, in <module>\n",
      "    _LIB = _load_lib()\n",
      "  File \"/home/ec2-user/SageMaker/classifai-backend/image-classification/incubator-mxnet/tools/../python/mxnet/base.py\", line 279, in _load_lib\n",
      "    lib_path = libinfo.find_lib_path()\n",
      "  File \"/home/ec2-user/SageMaker/classifai-backend/image-classification/incubator-mxnet/tools/../python/mxnet/libinfo.py\", line 74, in find_lib_path\n",
      "    'List of candidates:\\n' + str('\\n'.join(dll_path)))\n",
      "RuntimeError: Cannot find the MXNet library.\n",
      "List of candidates:\n",
      "/usr/local/cuda-10.0/lib64/libmxnet.so\n",
      "/usr/local/cuda-10.0/extras/CUPTI/lib64/libmxnet.so\n",
      "/usr/local/cuda-10.0/lib/libmxnet.so\n",
      "/usr/local/cuda-10.0/efa/lib/libmxnet.so\n",
      "/opt/amazon/efa/lib/libmxnet.so\n",
      "/opt/amazon/efa/lib64/libmxnet.so\n",
      "/usr/local/cuda/lib/libmxnet.so\n",
      "/usr/local/cuda/lib64/libmxnet.so\n",
      "/usr/local/cuda/extras/CUPTI/lib64/libmxnet.so\n",
      "/opt/amazon/efa/lib64/libmxnet.so\n",
      "/opt/amazon/openmpi/lib64/libmxnet.so\n",
      "/usr/local/lib/libmxnet.so\n",
      "/usr/lib/libmxnet.so\n",
      "/lib/libmxnet.so\n",
      "/usr/local/cuda/lib/libmxnet.so\n",
      "/usr/local/cuda/lib64/libmxnet.so\n",
      "/usr/local/cuda/extras/CUPTI/lib64/libmxnet.so\n",
      "/opt/amazon/efa/lib64/libmxnet.so\n",
      "/opt/amazon/openmpi/lib64/libmxnet.so\n",
      "/usr/local/lib/libmxnet.so\n",
      "/usr/lib/libmxnet.so\n",
      "/lib/libmxnet.so\n",
      "libmxnet.so\n",
      "/home/ec2-user/SageMaker/classifai-backend/image-classification/incubator-mxnet/python/mxnet/libmxnet.so\n",
      "/home/ec2-user/SageMaker/classifai-backend/image-classification/incubator-mxnet/python/mxnet/../../lib/libmxnet.so\n",
      "/home/ec2-user/SageMaker/classifai-backend/image-classification/incubator-mxnet/python/mxnet/../../build/libmxnet.so\n",
      "../../../libmxnet.so\n",
      "Traceback (most recent call last):\n",
      "  File \"/home/ec2-user/SageMaker/classifai-backend/image-classification/incubator-mxnet/tools/im2rec.py\", line 26, in <module>\n",
      "    import mxnet as mx\n",
      "  File \"/home/ec2-user/SageMaker/classifai-backend/image-classification/incubator-mxnet/tools/../python/mxnet/__init__.py\", line 23, in <module>\n",
      "    from .context import Context, current_context, cpu, gpu, cpu_pinned\n",
      "  File \"/home/ec2-user/SageMaker/classifai-backend/image-classification/incubator-mxnet/tools/../python/mxnet/context.py\", line 20, in <module>\n",
      "    from .base import _LIB\n",
      "  File \"/home/ec2-user/SageMaker/classifai-backend/image-classification/incubator-mxnet/tools/../python/mxnet/base.py\", line 312, in <module>\n",
      "    _LIB = _load_lib()\n",
      "  File \"/home/ec2-user/SageMaker/classifai-backend/image-classification/incubator-mxnet/tools/../python/mxnet/base.py\", line 279, in _load_lib\n",
      "    lib_path = libinfo.find_lib_path()\n",
      "  File \"/home/ec2-user/SageMaker/classifai-backend/image-classification/incubator-mxnet/tools/../python/mxnet/libinfo.py\", line 74, in find_lib_path\n",
      "    'List of candidates:\\n' + str('\\n'.join(dll_path)))\n",
      "RuntimeError: Cannot find the MXNet library.\n",
      "List of candidates:\n",
      "/usr/local/cuda-10.0/lib64/libmxnet.so\n",
      "/usr/local/cuda-10.0/extras/CUPTI/lib64/libmxnet.so\n",
      "/usr/local/cuda-10.0/lib/libmxnet.so\n",
      "/usr/local/cuda-10.0/efa/lib/libmxnet.so\n",
      "/opt/amazon/efa/lib/libmxnet.so\n",
      "/opt/amazon/efa/lib64/libmxnet.so\n",
      "/usr/local/cuda/lib/libmxnet.so\n",
      "/usr/local/cuda/lib64/libmxnet.so\n",
      "/usr/local/cuda/extras/CUPTI/lib64/libmxnet.so\n",
      "/opt/amazon/efa/lib64/libmxnet.so\n",
      "/opt/amazon/openmpi/lib64/libmxnet.so\n",
      "/usr/local/lib/libmxnet.so\n",
      "/usr/lib/libmxnet.so\n",
      "/lib/libmxnet.so\n",
      "/usr/local/cuda/lib/libmxnet.so\n",
      "/usr/local/cuda/lib64/libmxnet.so\n",
      "/usr/local/cuda/extras/CUPTI/lib64/libmxnet.so\n",
      "/opt/amazon/efa/lib64/libmxnet.so\n",
      "/opt/amazon/openmpi/lib64/libmxnet.so\n",
      "/usr/local/lib/libmxnet.so\n",
      "/usr/lib/libmxnet.so\n",
      "/lib/libmxnet.so\n",
      "libmxnet.so\n",
      "/home/ec2-user/SageMaker/classifai-backend/image-classification/incubator-mxnet/python/mxnet/libmxnet.so\n",
      "/home/ec2-user/SageMaker/classifai-backend/image-classification/incubator-mxnet/python/mxnet/../../lib/libmxnet.so\n",
      "/home/ec2-user/SageMaker/classifai-backend/image-classification/incubator-mxnet/python/mxnet/../../build/libmxnet.so\n",
      "../../../libmxnet.so\n",
      "Traceback (most recent call last):\n",
      "  File \"/home/ec2-user/SageMaker/classifai-backend/image-classification/incubator-mxnet/tools/im2rec.py\", line 26, in <module>\n",
      "    import mxnet as mx\n",
      "  File \"/home/ec2-user/SageMaker/classifai-backend/image-classification/incubator-mxnet/tools/../python/mxnet/__init__.py\", line 23, in <module>\n",
      "    from .context import Context, current_context, cpu, gpu, cpu_pinned\n",
      "  File \"/home/ec2-user/SageMaker/classifai-backend/image-classification/incubator-mxnet/tools/../python/mxnet/context.py\", line 20, in <module>\n",
      "    from .base import _LIB\n",
      "  File \"/home/ec2-user/SageMaker/classifai-backend/image-classification/incubator-mxnet/tools/../python/mxnet/base.py\", line 312, in <module>\n",
      "    _LIB = _load_lib()\n",
      "  File \"/home/ec2-user/SageMaker/classifai-backend/image-classification/incubator-mxnet/tools/../python/mxnet/base.py\", line 279, in _load_lib\n",
      "    lib_path = libinfo.find_lib_path()\n",
      "  File \"/home/ec2-user/SageMaker/classifai-backend/image-classification/incubator-mxnet/tools/../python/mxnet/libinfo.py\", line 74, in find_lib_path\n",
      "    'List of candidates:\\n' + str('\\n'.join(dll_path)))\n",
      "RuntimeError: Cannot find the MXNet library.\n",
      "List of candidates:\n",
      "/usr/local/cuda-10.0/lib64/libmxnet.so\n",
      "/usr/local/cuda-10.0/extras/CUPTI/lib64/libmxnet.so\n",
      "/usr/local/cuda-10.0/lib/libmxnet.so\n",
      "/usr/local/cuda-10.0/efa/lib/libmxnet.so\n",
      "/opt/amazon/efa/lib/libmxnet.so\n",
      "/opt/amazon/efa/lib64/libmxnet.so\n",
      "/usr/local/cuda/lib/libmxnet.so\n",
      "/usr/local/cuda/lib64/libmxnet.so\n",
      "/usr/local/cuda/extras/CUPTI/lib64/libmxnet.so\n",
      "/opt/amazon/efa/lib64/libmxnet.so\n",
      "/opt/amazon/openmpi/lib64/libmxnet.so\n",
      "/usr/local/lib/libmxnet.so\n",
      "/usr/lib/libmxnet.so\n",
      "/lib/libmxnet.so\n",
      "/usr/local/cuda/lib/libmxnet.so\n",
      "/usr/local/cuda/lib64/libmxnet.so\n",
      "/usr/local/cuda/extras/CUPTI/lib64/libmxnet.so\n",
      "/opt/amazon/efa/lib64/libmxnet.so\n",
      "/opt/amazon/openmpi/lib64/libmxnet.so\n",
      "/usr/local/lib/libmxnet.so\n",
      "/usr/lib/libmxnet.so\n",
      "/lib/libmxnet.so\n",
      "libmxnet.so\n",
      "/home/ec2-user/SageMaker/classifai-backend/image-classification/incubator-mxnet/python/mxnet/libmxnet.so\n",
      "/home/ec2-user/SageMaker/classifai-backend/image-classification/incubator-mxnet/python/mxnet/../../lib/libmxnet.so\n",
      "/home/ec2-user/SageMaker/classifai-backend/image-classification/incubator-mxnet/python/mxnet/../../build/libmxnet.so\n",
      "../../../libmxnet.so\n",
      "ls: cannot access *.rec: No such file or directory\n"
     ]
    },
    {
     "ename": "CalledProcessError",
     "evalue": "Command 'b'# Use the IM2REC script to convert our images into RecordIO files\\n\\n# Clean up our working dir of existing LST and REC files\\ncd $BASE_DIR\\nrm *.rec\\nrm *.lst\\n\\n# First we need to create two LST files (training and test lists), noting the correct label class for each image\\n# We\\'ll also save the output of the LST files command, since it includes a list of all of our label classes\\necho \"Creating LST files\"\\npython $IM2REC --list --recursive --pass-through --test-ratio=0.3 --train-ratio=0.7 $DATASET_NAME $DATASET_NAME > ${DATASET_NAME}_classes\\n\\necho \"Label classes:\"\\ncat ${DATASET_NAME}_classes\\n\\n# Then we create RecordIO files from the LST files\\necho \"Creating RecordIO files\"\\npython $IM2REC --num-thread=4 ${DATASET_NAME}_train.lst $DATASET_NAME\\npython $IM2REC --num-thread=4 ${DATASET_NAME}_test.lst $DATASET_NAME\\nls -lh *.rec\\n'' returned non-zero exit status 2.",
     "output_type": "error",
     "traceback": [
      "\u001b[0;31m---------------------------------------------------------------------------\u001b[0m",
      "\u001b[0;31mCalledProcessError\u001b[0m                        Traceback (most recent call last)",
      "\u001b[0;32m<ipython-input-22-0792b5f0bdf2>\u001b[0m in \u001b[0;36m<module>\u001b[0;34m\u001b[0m\n\u001b[0;32m----> 1\u001b[0;31m \u001b[0mget_ipython\u001b[0m\u001b[0;34m(\u001b[0m\u001b[0;34m)\u001b[0m\u001b[0;34m.\u001b[0m\u001b[0mrun_cell_magic\u001b[0m\u001b[0;34m(\u001b[0m\u001b[0;34m'bash'\u001b[0m\u001b[0;34m,\u001b[0m \u001b[0;34m''\u001b[0m\u001b[0;34m,\u001b[0m \u001b[0;34m'# Use the IM2REC script to convert our images into RecordIO files\\n\\n# Clean up our working dir of existing LST and REC files\\ncd $BASE_DIR\\nrm *.rec\\nrm *.lst\\n\\n# First we need to create two LST files (training and test lists), noting the correct label class for each image\\n# We\\'ll also save the output of the LST files command, since it includes a list of all of our label classes\\necho \"Creating LST files\"\\npython $IM2REC --list --recursive --pass-through --test-ratio=0.3 --train-ratio=0.7 $DATASET_NAME $DATASET_NAME > ${DATASET_NAME}_classes\\n\\necho \"Label classes:\"\\ncat ${DATASET_NAME}_classes\\n\\n# Then we create RecordIO files from the LST files\\necho \"Creating RecordIO files\"\\npython $IM2REC --num-thread=4 ${DATASET_NAME}_train.lst $DATASET_NAME\\npython $IM2REC --num-thread=4 ${DATASET_NAME}_test.lst $DATASET_NAME\\nls -lh *.rec\\n'\u001b[0m\u001b[0;34m)\u001b[0m\u001b[0;34m\u001b[0m\u001b[0;34m\u001b[0m\u001b[0m\n\u001b[0m",
      "\u001b[0;32m~/anaconda3/envs/python3/lib/python3.6/site-packages/IPython/core/interactiveshell.py\u001b[0m in \u001b[0;36mrun_cell_magic\u001b[0;34m(self, magic_name, line, cell)\u001b[0m\n\u001b[1;32m   2369\u001b[0m             \u001b[0;32mwith\u001b[0m \u001b[0mself\u001b[0m\u001b[0;34m.\u001b[0m\u001b[0mbuiltin_trap\u001b[0m\u001b[0;34m:\u001b[0m\u001b[0;34m\u001b[0m\u001b[0;34m\u001b[0m\u001b[0m\n\u001b[1;32m   2370\u001b[0m                 \u001b[0margs\u001b[0m \u001b[0;34m=\u001b[0m \u001b[0;34m(\u001b[0m\u001b[0mmagic_arg_s\u001b[0m\u001b[0;34m,\u001b[0m \u001b[0mcell\u001b[0m\u001b[0;34m)\u001b[0m\u001b[0;34m\u001b[0m\u001b[0;34m\u001b[0m\u001b[0m\n\u001b[0;32m-> 2371\u001b[0;31m                 \u001b[0mresult\u001b[0m \u001b[0;34m=\u001b[0m \u001b[0mfn\u001b[0m\u001b[0;34m(\u001b[0m\u001b[0;34m*\u001b[0m\u001b[0margs\u001b[0m\u001b[0;34m,\u001b[0m \u001b[0;34m**\u001b[0m\u001b[0mkwargs\u001b[0m\u001b[0;34m)\u001b[0m\u001b[0;34m\u001b[0m\u001b[0;34m\u001b[0m\u001b[0m\n\u001b[0m\u001b[1;32m   2372\u001b[0m             \u001b[0;32mreturn\u001b[0m \u001b[0mresult\u001b[0m\u001b[0;34m\u001b[0m\u001b[0;34m\u001b[0m\u001b[0m\n\u001b[1;32m   2373\u001b[0m \u001b[0;34m\u001b[0m\u001b[0m\n",
      "\u001b[0;32m~/anaconda3/envs/python3/lib/python3.6/site-packages/IPython/core/magics/script.py\u001b[0m in \u001b[0;36mnamed_script_magic\u001b[0;34m(line, cell)\u001b[0m\n\u001b[1;32m    140\u001b[0m             \u001b[0;32melse\u001b[0m\u001b[0;34m:\u001b[0m\u001b[0;34m\u001b[0m\u001b[0;34m\u001b[0m\u001b[0m\n\u001b[1;32m    141\u001b[0m                 \u001b[0mline\u001b[0m \u001b[0;34m=\u001b[0m \u001b[0mscript\u001b[0m\u001b[0;34m\u001b[0m\u001b[0;34m\u001b[0m\u001b[0m\n\u001b[0;32m--> 142\u001b[0;31m             \u001b[0;32mreturn\u001b[0m \u001b[0mself\u001b[0m\u001b[0;34m.\u001b[0m\u001b[0mshebang\u001b[0m\u001b[0;34m(\u001b[0m\u001b[0mline\u001b[0m\u001b[0;34m,\u001b[0m \u001b[0mcell\u001b[0m\u001b[0;34m)\u001b[0m\u001b[0;34m\u001b[0m\u001b[0;34m\u001b[0m\u001b[0m\n\u001b[0m\u001b[1;32m    143\u001b[0m \u001b[0;34m\u001b[0m\u001b[0m\n\u001b[1;32m    144\u001b[0m         \u001b[0;31m# write a basic docstring:\u001b[0m\u001b[0;34m\u001b[0m\u001b[0;34m\u001b[0m\u001b[0;34m\u001b[0m\u001b[0m\n",
      "\u001b[0;32m<decorator-gen-110>\u001b[0m in \u001b[0;36mshebang\u001b[0;34m(self, line, cell)\u001b[0m\n",
      "\u001b[0;32m~/anaconda3/envs/python3/lib/python3.6/site-packages/IPython/core/magic.py\u001b[0m in \u001b[0;36m<lambda>\u001b[0;34m(f, *a, **k)\u001b[0m\n\u001b[1;32m    185\u001b[0m     \u001b[0;31m# but it's overkill for just that one bit of state.\u001b[0m\u001b[0;34m\u001b[0m\u001b[0;34m\u001b[0m\u001b[0;34m\u001b[0m\u001b[0m\n\u001b[1;32m    186\u001b[0m     \u001b[0;32mdef\u001b[0m \u001b[0mmagic_deco\u001b[0m\u001b[0;34m(\u001b[0m\u001b[0marg\u001b[0m\u001b[0;34m)\u001b[0m\u001b[0;34m:\u001b[0m\u001b[0;34m\u001b[0m\u001b[0;34m\u001b[0m\u001b[0m\n\u001b[0;32m--> 187\u001b[0;31m         \u001b[0mcall\u001b[0m \u001b[0;34m=\u001b[0m \u001b[0;32mlambda\u001b[0m \u001b[0mf\u001b[0m\u001b[0;34m,\u001b[0m \u001b[0;34m*\u001b[0m\u001b[0ma\u001b[0m\u001b[0;34m,\u001b[0m \u001b[0;34m**\u001b[0m\u001b[0mk\u001b[0m\u001b[0;34m:\u001b[0m \u001b[0mf\u001b[0m\u001b[0;34m(\u001b[0m\u001b[0;34m*\u001b[0m\u001b[0ma\u001b[0m\u001b[0;34m,\u001b[0m \u001b[0;34m**\u001b[0m\u001b[0mk\u001b[0m\u001b[0;34m)\u001b[0m\u001b[0;34m\u001b[0m\u001b[0;34m\u001b[0m\u001b[0m\n\u001b[0m\u001b[1;32m    188\u001b[0m \u001b[0;34m\u001b[0m\u001b[0m\n\u001b[1;32m    189\u001b[0m         \u001b[0;32mif\u001b[0m \u001b[0mcallable\u001b[0m\u001b[0;34m(\u001b[0m\u001b[0marg\u001b[0m\u001b[0;34m)\u001b[0m\u001b[0;34m:\u001b[0m\u001b[0;34m\u001b[0m\u001b[0;34m\u001b[0m\u001b[0m\n",
      "\u001b[0;32m~/anaconda3/envs/python3/lib/python3.6/site-packages/IPython/core/magics/script.py\u001b[0m in \u001b[0;36mshebang\u001b[0;34m(self, line, cell)\u001b[0m\n\u001b[1;32m    243\u001b[0m             \u001b[0msys\u001b[0m\u001b[0;34m.\u001b[0m\u001b[0mstderr\u001b[0m\u001b[0;34m.\u001b[0m\u001b[0mflush\u001b[0m\u001b[0;34m(\u001b[0m\u001b[0;34m)\u001b[0m\u001b[0;34m\u001b[0m\u001b[0;34m\u001b[0m\u001b[0m\n\u001b[1;32m    244\u001b[0m         \u001b[0;32mif\u001b[0m \u001b[0margs\u001b[0m\u001b[0;34m.\u001b[0m\u001b[0mraise_error\u001b[0m \u001b[0;32mand\u001b[0m \u001b[0mp\u001b[0m\u001b[0;34m.\u001b[0m\u001b[0mreturncode\u001b[0m\u001b[0;34m!=\u001b[0m\u001b[0;36m0\u001b[0m\u001b[0;34m:\u001b[0m\u001b[0;34m\u001b[0m\u001b[0;34m\u001b[0m\u001b[0m\n\u001b[0;32m--> 245\u001b[0;31m             \u001b[0;32mraise\u001b[0m \u001b[0mCalledProcessError\u001b[0m\u001b[0;34m(\u001b[0m\u001b[0mp\u001b[0m\u001b[0;34m.\u001b[0m\u001b[0mreturncode\u001b[0m\u001b[0;34m,\u001b[0m \u001b[0mcell\u001b[0m\u001b[0;34m,\u001b[0m \u001b[0moutput\u001b[0m\u001b[0;34m=\u001b[0m\u001b[0mout\u001b[0m\u001b[0;34m,\u001b[0m \u001b[0mstderr\u001b[0m\u001b[0;34m=\u001b[0m\u001b[0merr\u001b[0m\u001b[0;34m)\u001b[0m\u001b[0;34m\u001b[0m\u001b[0;34m\u001b[0m\u001b[0m\n\u001b[0m\u001b[1;32m    246\u001b[0m \u001b[0;34m\u001b[0m\u001b[0m\n\u001b[1;32m    247\u001b[0m     \u001b[0;32mdef\u001b[0m \u001b[0m_run_script\u001b[0m\u001b[0;34m(\u001b[0m\u001b[0mself\u001b[0m\u001b[0;34m,\u001b[0m \u001b[0mp\u001b[0m\u001b[0;34m,\u001b[0m \u001b[0mcell\u001b[0m\u001b[0;34m,\u001b[0m \u001b[0mto_close\u001b[0m\u001b[0;34m)\u001b[0m\u001b[0;34m:\u001b[0m\u001b[0;34m\u001b[0m\u001b[0;34m\u001b[0m\u001b[0m\n",
      "\u001b[0;31mCalledProcessError\u001b[0m: Command 'b'# Use the IM2REC script to convert our images into RecordIO files\\n\\n# Clean up our working dir of existing LST and REC files\\ncd $BASE_DIR\\nrm *.rec\\nrm *.lst\\n\\n# First we need to create two LST files (training and test lists), noting the correct label class for each image\\n# We\\'ll also save the output of the LST files command, since it includes a list of all of our label classes\\necho \"Creating LST files\"\\npython $IM2REC --list --recursive --pass-through --test-ratio=0.3 --train-ratio=0.7 $DATASET_NAME $DATASET_NAME > ${DATASET_NAME}_classes\\n\\necho \"Label classes:\"\\ncat ${DATASET_NAME}_classes\\n\\n# Then we create RecordIO files from the LST files\\necho \"Creating RecordIO files\"\\npython $IM2REC --num-thread=4 ${DATASET_NAME}_train.lst $DATASET_NAME\\npython $IM2REC --num-thread=4 ${DATASET_NAME}_test.lst $DATASET_NAME\\nls -lh *.rec\\n'' returned non-zero exit status 2."
     ]
    }
   ],
   "source": [
    "%%bash\n",
    "# Use the IM2REC script to convert our images into RecordIO files\n",
    "\n",
    "# Clean up our working dir of existing LST and REC files\n",
    "cd $BASE_DIR\n",
    "rm *.rec\n",
    "rm *.lst\n",
    "\n",
    "# First we need to create two LST files (training and test lists), noting the correct label class for each image\n",
    "# We'll also save the output of the LST files command, since it includes a list of all of our label classes\n",
    "echo \"Creating LST files\"\n",
    "python $IM2REC --list --recursive --pass-through --test-ratio=0.3 --train-ratio=0.7 $DATASET_NAME $DATASET_NAME > ${DATASET_NAME}_classes\n",
    "\n",
    "echo \"Label classes:\"\n",
    "cat ${DATASET_NAME}_classes\n",
    "\n",
    "# Then we create RecordIO files from the LST files\n",
    "echo \"Creating RecordIO files\"\n",
    "python $IM2REC --num-thread=4 ${DATASET_NAME}_train.lst $DATASET_NAME\n",
    "python $IM2REC --num-thread=4 ${DATASET_NAME}_test.lst $DATASET_NAME\n",
    "ls -lh *.rec"
   ]
  },
  {
   "cell_type": "code",
   "execution_count": 23,
   "id": "59f6511a",
   "metadata": {},
   "outputs": [
    {
     "data": {
      "text/plain": [
       "['',\n",
       " '/home/ec2-user/anaconda3/envs/python3/lib/python36.zip',\n",
       " '/home/ec2-user/anaconda3/envs/python3/lib/python3.6',\n",
       " '/home/ec2-user/anaconda3/envs/python3/lib/python3.6/lib-dynload',\n",
       " '/home/ec2-user/anaconda3/envs/python3/lib/python3.6/site-packages',\n",
       " '/home/ec2-user/anaconda3/envs/python3/lib/python3.6/site-packages/IPython/extensions',\n",
       " '/home/ec2-user/.ipython']"
      ]
     },
     "execution_count": 23,
     "metadata": {},
     "output_type": "execute_result"
    }
   ],
   "source": [
    "sys.path"
   ]
  },
  {
   "cell_type": "code",
   "execution_count": null,
   "id": "81aa3268",
   "metadata": {},
   "outputs": [],
   "source": []
  }
 ],
 "metadata": {
  "kernelspec": {
   "display_name": "conda_python3",
   "language": "python",
   "name": "conda_python3"
  },
  "language_info": {
   "codemirror_mode": {
    "name": "ipython",
    "version": 3
   },
   "file_extension": ".py",
   "mimetype": "text/x-python",
   "name": "python",
   "nbconvert_exporter": "python",
   "pygments_lexer": "ipython3",
   "version": "3.6.13"
  }
 },
 "nbformat": 4,
 "nbformat_minor": 5
}
